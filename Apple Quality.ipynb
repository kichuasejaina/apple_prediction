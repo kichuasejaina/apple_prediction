{
 "cells": [
  {
   "cell_type": "markdown",
   "id": "052e2368-3e2d-4a15-983d-130fab9b766f",
   "metadata": {},
   "source": [
    "# Apple Quality Prediction with AI\n",
    "\n",
    "This model will be based on generic algorithms. Prediction based on Deep Learning Model is not included."
   ]
  },
  {
   "cell_type": "markdown",
   "id": "e184ad34-7ffa-4cc9-ac68-0a23065adf08",
   "metadata": {},
   "source": [
    "### Few Imports"
   ]
  },
  {
   "cell_type": "code",
   "execution_count": 1,
   "id": "bed28740-6b3c-4428-8fee-cbaaf50862d0",
   "metadata": {},
   "outputs": [],
   "source": [
    "import pandas as pd\n",
    "import numpy as np\n",
    "from sklearn.model_selection import StratifiedShuffleSplit\n",
    "from matplotlib import pyplot as plt\n",
    "from sklearn.preprocessing import OrdinalEncoder,StandardScaler\n",
    "from sklearn.pipeline import Pipeline\n",
    "from sklearn.base import BaseEstimator,TransformerMixin, clone\n",
    "from sklearn.linear_model import LogisticRegression, SGDClassifier\n",
    "from sklearn.tree import DecisionTreeClassifier\n",
    "from sklearn.svm import SVC\n",
    "from sklearn.ensemble import RandomForestClassifier,VotingClassifier,StackingClassifier,AdaBoostClassifier,BaggingClassifier\n",
    "from sklearn.model_selection import cross_val_score\n",
    "from sklearn.metrics import accuracy_score,confusion_matrix,silhouette_score,roc_curve\n",
    "\n",
    "from sklearn.cluster import KMeans\n",
    "from sklearn.mixture import BayesianGaussianMixture"
   ]
  },
  {
   "cell_type": "markdown",
   "id": "f21099d9-8c56-4a59-ab27-e39af033329d",
   "metadata": {},
   "source": [
    "### Reading Data from CSV and verifying the data"
   ]
  },
  {
   "cell_type": "code",
   "execution_count": 2,
   "id": "a8495947-efe6-4404-be82-5619bcf266b9",
   "metadata": {},
   "outputs": [],
   "source": [
    "## Reading CSV\n",
    "\n",
    "randomness = 42\n",
    "apple_data = pd.read_csv(\"apple_quality.csv\")"
   ]
  },
  {
   "cell_type": "code",
   "execution_count": 3,
   "id": "c6ad96a9-4ffa-4f73-8135-1b72a77ff1f1",
   "metadata": {},
   "outputs": [
    {
     "name": "stdout",
     "output_type": "stream",
     "text": [
      "\n",
      "*** Apple Data Headers and few values ***\n",
      "\n",
      "   A_id      Size    Weight  Sweetness  Crunchiness  Juiciness  Ripeness  \\\n",
      "0   0.0 -3.970049 -2.512336   5.346330    -1.012009   1.844900  0.329840   \n",
      "1   1.0 -1.195217 -2.839257   3.664059     1.588232   0.853286  0.867530   \n",
      "2   2.0 -0.292024 -1.351282  -1.738429    -0.342616   2.838636 -0.038033   \n",
      "3   3.0 -0.657196 -2.271627   1.324874    -0.097875   3.637970 -3.413761   \n",
      "4   4.0  1.364217 -1.296612  -0.384658    -0.553006   3.030874 -1.303849   \n",
      "\n",
      "        Acidity Quality  \n",
      "0  -0.491590483    good  \n",
      "1  -0.722809367    good  \n",
      "2   2.621636473     bad  \n",
      "3   0.790723217    good  \n",
      "4   0.501984036    good  \n",
      "============================\n",
      "\n",
      "*** Apple Data Info ***\n",
      "\n",
      "<class 'pandas.core.frame.DataFrame'>\n",
      "RangeIndex: 4001 entries, 0 to 4000\n",
      "Data columns (total 9 columns):\n",
      " #   Column       Non-Null Count  Dtype  \n",
      "---  ------       --------------  -----  \n",
      " 0   A_id         4000 non-null   float64\n",
      " 1   Size         4000 non-null   float64\n",
      " 2   Weight       4000 non-null   float64\n",
      " 3   Sweetness    4000 non-null   float64\n",
      " 4   Crunchiness  4000 non-null   float64\n",
      " 5   Juiciness    4000 non-null   float64\n",
      " 6   Ripeness     4000 non-null   float64\n",
      " 7   Acidity      4001 non-null   object \n",
      " 8   Quality      4000 non-null   object \n",
      "dtypes: float64(7), object(2)\n",
      "memory usage: 281.4+ KB\n",
      "None\n"
     ]
    }
   ],
   "source": [
    "## Verifying CSV\n",
    "\n",
    "print(\"\\n*** Apple Data Headers and few values ***\\n\")\n",
    "print(apple_data.head())\n",
    "\n",
    "print(\"============================\")\n",
    "print(\"\\n*** Apple Data Info ***\\n\")\n",
    "print(apple_data.info())"
   ]
  },
  {
   "cell_type": "markdown",
   "id": "f1f4444b-a581-45ab-ab7d-1ddfcb11b344",
   "metadata": {},
   "source": [
    "<span style=\"background-color:red; color:white\">**NOTE:** Acidity is having one extra value (Count: 4001) than others (Count: 4000). <br> **Steps** : Dropping the null values</span>"
   ]
  },
  {
   "cell_type": "markdown",
   "id": "4b6b1e06-512b-427f-8975-450dfc8d9174",
   "metadata": {},
   "source": [
    "### Data Celanup"
   ]
  },
  {
   "cell_type": "code",
   "execution_count": 4,
   "id": "c82b3ddb-686a-4a04-8e84-7a93462afcd0",
   "metadata": {},
   "outputs": [
    {
     "name": "stdout",
     "output_type": "stream",
     "text": [
      "<class 'pandas.core.frame.DataFrame'>\n",
      "Index: 4000 entries, 0 to 3999\n",
      "Data columns (total 9 columns):\n",
      " #   Column       Non-Null Count  Dtype  \n",
      "---  ------       --------------  -----  \n",
      " 0   A_id         4000 non-null   float64\n",
      " 1   Size         4000 non-null   float64\n",
      " 2   Weight       4000 non-null   float64\n",
      " 3   Sweetness    4000 non-null   float64\n",
      " 4   Crunchiness  4000 non-null   float64\n",
      " 5   Juiciness    4000 non-null   float64\n",
      " 6   Ripeness     4000 non-null   float64\n",
      " 7   Acidity      4000 non-null   object \n",
      " 8   Quality      4000 non-null   object \n",
      "dtypes: float64(7), object(2)\n",
      "memory usage: 312.5+ KB\n"
     ]
    }
   ],
   "source": [
    "apple_data = apple_data.dropna()\n",
    "apple_data.info()"
   ]
  },
  {
   "cell_type": "markdown",
   "id": "f179c35d-5904-43df-8ca5-1628dbc4067d",
   "metadata": {},
   "source": [
    "<span style=\"background-color:green; color:white\">Now Acidity is having 4000 columns</span>"
   ]
  },
  {
   "cell_type": "markdown",
   "id": "c1ff8c1e-455b-4bb9-8a8a-faec122e09e8",
   "metadata": {},
   "source": [
    "### Separating x and y. Also separating train, validation and test set\n",
    "\n",
    "Train set will be used for training only, Validation set will be used to validate the score.\n",
    "Test set will be used to understand performace at the end. This set will be considered as not seen by model while training. Hence the score in test set can be considered as performance score in unseen data"
   ]
  },
  {
   "cell_type": "code",
   "execution_count": 5,
   "id": "513af341-cab8-46fd-9b6c-35fd8a083df1",
   "metadata": {},
   "outputs": [],
   "source": [
    "## Functions to get x,y and split train,test set\n",
    "\n",
    "def get_x_y(data):\n",
    "    x = data.iloc[:,1:-1] ## A-id is not required in this case. \n",
    "    y = data.iloc[:,-1]\n",
    "    return x,y\n",
    "\n",
    "def split_train_test(x,y,test_size=0.2,random_state=42):\n",
    "    split = StratifiedShuffleSplit(n_splits=1,test_size=test_size,random_state=random_state)\n",
    "    for train_index,test_index in split.split(x,y):\n",
    "        train_x = x[train_index]\n",
    "        train_y = y[train_index]\n",
    "        test_x = x[test_index]\n",
    "        test_y = y[test_index]\n",
    "        return train_x,train_y,test_x,test_y"
   ]
  },
  {
   "cell_type": "code",
   "execution_count": 6,
   "id": "68b4d59b-15cd-484b-99bd-6f13df1fd46d",
   "metadata": {},
   "outputs": [],
   "source": [
    "## Getting X and Y\n",
    "x,y = get_x_y(apple_data)\n",
    "\n",
    "## Getting train set, test set, val set\n",
    "train_val_x,train_val_y,test_x,test_y = split_train_test(x.values,y.values,random_state=randomness)\n",
    "train_x,train_y,val_x,val_y = split_train_test(train_val_x,train_val_y,test_size=0.15,random_state=randomness)"
   ]
  },
  {
   "cell_type": "markdown",
   "id": "cde705c4-1643-4fde-a7d3-bac8375170a3",
   "metadata": {},
   "source": [
    "### Analyzing X"
   ]
  },
  {
   "cell_type": "code",
   "execution_count": 7,
   "id": "67869c8e-87fd-4ada-b572-2a3fa9b07012",
   "metadata": {},
   "outputs": [
    {
     "data": {
      "image/png": "[encoded data removed]",
      "text/plain": [
       "<Figure size 640x480 with 9 Axes>"
      ]
     },
     "metadata": {},
     "output_type": "display_data"
    }
   ],
   "source": [
    "## Checking Histogram for distribution\n",
    "\n",
    "pd.DataFrame(train_x.astype('float64')).hist(bins=50)\n",
    "plt.show()"
   ]
  },
  {
   "cell_type": "markdown",
   "id": "0fc45dc3-580b-46e7-bd65-8c060079c3a9",
   "metadata": {},
   "source": [
    "Histogram seems bell-shaped and data is well distributed"
   ]
  },
  {
   "cell_type": "markdown",
   "id": "26217273-e04a-4dff-b91d-37ba91f8829d",
   "metadata": {},
   "source": [
    "### Scaling and Encoding X and Y"
   ]
  },
  {
   "cell_type": "code",
   "execution_count": 8,
   "id": "d0651de4-939e-465c-91ae-1338d1d1986c",
   "metadata": {},
   "outputs": [],
   "source": [
    "## Preparing scalers and encoders\n",
    "\n",
    "class X_Floater(BaseEstimator,TransformerMixin):\n",
    "    def fit(self,x,y=None):\n",
    "        return self\n",
    "\n",
    "    def transform(self,x,y=None):\n",
    "        return x.astype('float64')\n",
    "\n",
    "x_scaler = Pipeline([\n",
    "    ('floater', X_Floater()),\n",
    "    ('x_scaler',StandardScaler())\n",
    "])\n",
    "\n",
    "class Y_ENC(BaseEstimator,TransformerMixin):\n",
    "    def __init__(self,transformer=OrdinalEncoder()):\n",
    "        self._transformer = transformer\n",
    "\n",
    "    def fit(self,x):\n",
    "        x_tmp = x.reshape(-1,1)\n",
    "        self._transformer.fit(x_tmp)\n",
    "        return self\n",
    "\n",
    "    def transform(self,x):\n",
    "        x_tmp = x.reshape(-1,1)\n",
    "        transformed_x = self._transformer.transform(x_tmp)\n",
    "        return transformed_x.ravel()\n",
    "        \n",
    "    def inverse_transform(self,x):\n",
    "        x_tmp = x.reshape(-1,1)\n",
    "        transformed_x = self._transformer.inverse_transform(x_tmp)\n",
    "        return transformed_x.ravel()\n"
   ]
  },
  {
   "cell_type": "code",
   "execution_count": 9,
   "id": "aca94e2c-5c95-4fbf-99e3-aa964ddebca7",
   "metadata": {},
   "outputs": [],
   "source": [
    "## Encoding and scaling\n",
    "\n",
    "y_encoder = Y_ENC()\n",
    "\n",
    "x_scaler.fit(train_x)\n",
    "y_encoder.fit(train_y)\n",
    "\n",
    "scaled_train_x = x_scaler.transform(train_x)\n",
    "encoded_train_y = y_encoder.transform(train_y)\n",
    "scaled_val_x = x_scaler.transform(val_x)\n",
    "encoded_val_y = y_encoder.transform(val_y)"
   ]
  },
  {
   "cell_type": "markdown",
   "id": "f0b9e15e-1eb3-448f-bc2f-e52c34f7ea96",
   "metadata": {},
   "source": [
    "### Few Additional Functions"
   ]
  },
  {
   "cell_type": "code",
   "execution_count": 10,
   "id": "1d3cbb2c-d75f-4074-96be-1e0601bba314",
   "metadata": {},
   "outputs": [],
   "source": [
    "## Few Required Functions \n",
    "def view_cv_score(scores):\n",
    "    max_score = np.max(scores)\n",
    "    min_score = np.min(scores)\n",
    "    mean_score = np.mean(scores)\n",
    "    daviation = np.std(scores)\n",
    "    print(f\"\"\"\n",
    "Total Number of scores: {len(scores)}\n",
    "Mean Score:    {mean_score.__round__(2)}\n",
    "Max Score:     {max_score.__round__(2)}\n",
    "Min Score:     {min_score.__round__(2)}\n",
    "St. Daviation: {daviation.__round__(3)}\n",
    "Scores:        {scores}\n",
    "\"\"\")\n",
    "\n",
    "\n",
    "def view_score(y_true,y_predicted):\n",
    "    score = accuracy_score(y_true,y_predicted)\n",
    "    confused = confusion_matrix(y_true,y_predicted)\n",
    "    print(f\"\"\"\n",
    "Accuracy Score: {score}\n",
    "Confusion Matrix:\n",
    "{confused}\n",
    "\"\"\")\n",
    "\n",
    "\n",
    "def get_primary_view(model,x,y,val_x,val_y):\n",
    "    model_cloned = clone(model)\n",
    "    \n",
    "    ## Getting Cross validation score based on accuracy in train set\n",
    "    try:\n",
    "        model_scores = cross_val_score(model_cloned,x,y,scoring='accuracy',cv=10)\n",
    "        print(\"Cross Validation Score\")\n",
    "        view_cv_score(model_scores)\n",
    "    except:\n",
    "        pass\n",
    "    ## Training Log Reg\n",
    "    model_cloned.fit(x,y)\n",
    "    \n",
    "    ## Score in Validation set\n",
    "    val_y_predicted = model_cloned.predict(val_x)\n",
    "    print(\"Validation Score\")\n",
    "    view_score(val_y,val_y_predicted)\n",
    "\n",
    "\n",
    "def plot_rocs(models,x,y):\n",
    "    accuracy_scores = {}\n",
    "    fig =  plt.figure()\n",
    "    ax = fig.add_subplot(111)\n",
    "    for each_name,model in models:\n",
    "        try:\n",
    "            cusmod = CustomModel(model)\n",
    "            proba = cusmod.decision_function(x)\n",
    "            fpr,tpr,thresh = roc_curve(y,proba)\n",
    "            ax.plot(fpr,tpr,label=\"{}\".format(each_name))\n",
    "        except:\n",
    "            raise\n",
    "    ax.plot([0,1],[0,1])\n",
    "    ax.set_xlabel(\"False Positive Rate\")\n",
    "    ax.set_ylabel(\"True Positive Rate\")\n",
    "    ax.set_title(\"ROC Curve\")\n",
    "    ax.legend()\n",
    "    plt.grid()\n",
    "    plt.show()\n",
    "        \n",
    "\n",
    "## A custom estimator which provides both predict_proba and decission_function\n",
    "\n",
    "class CustomModel(BaseEstimator,TransformerMixin):\n",
    "    def __init__(self,model):\n",
    "        self.model = model\n",
    "\n",
    "    def fit(self,x,y,*args,**kw):\n",
    "        self.model.fit(x,y,*args,**kw)\n",
    "        return self\n",
    "\n",
    "    def predict(self,x):\n",
    "        return self.model.predict(x)\n",
    "\n",
    "    def predict_proba(self,x):\n",
    "        try:\n",
    "            prob = self.model.predict_proba(x)\n",
    "            return prob\n",
    "        except:\n",
    "            prob = self.model.decision_function(x)\n",
    "            return np.c_[1-prob,prob]\n",
    "\n",
    "    def decision_function(self,x):\n",
    "        try:\n",
    "            prob = self.model.predict_proba(x)\n",
    "            return prob[:,1]\n",
    "        except:\n",
    "            prob = self.model.decision_function(x)\n",
    "            return prob\n",
    "            \n",
    "    def score(self,*args,**kwargs):\n",
    "        return self.model.score(*args,**kwargs)\n",
    "\n",
    "    def transform(self,x):\n",
    "        return self.predict_proba(x)"
   ]
  },
  {
   "cell_type": "markdown",
   "id": "2ffea85f-e84f-49a4-a0f3-d07889172372",
   "metadata": {},
   "source": [
    "### Training Various Models "
   ]
  },
  {
   "cell_type": "markdown",
   "id": "54e32148-3da2-4714-a3b8-201dbdee72fe",
   "metadata": {},
   "source": [
    "#### LogisticRegression"
   ]
  },
  {
   "cell_type": "code",
   "execution_count": 11,
   "id": "1c885ce3-60e6-40fa-bcf3-5708ed3afd64",
   "metadata": {},
   "outputs": [
    {
     "name": "stdout",
     "output_type": "stream",
     "text": [
      "Cross Validation Score\n",
      "\n",
      "Total Number of scores: 10\n",
      "Mean Score:    0.75\n",
      "Max Score:     0.79\n",
      "Min Score:     0.71\n",
      "St. Daviation: 0.025\n",
      "Scores:        [0.77573529 0.74264706 0.74264706 0.72426471 0.73529412 0.76838235\n",
      " 0.79411765 0.70955882 0.72794118 0.75735294]\n",
      "\n",
      "Validation Score\n",
      "\n",
      "Accuracy Score: 0.7416666666666667\n",
      "Confusion Matrix:\n",
      "[[184  56]\n",
      " [ 68 172]]\n",
      "\n"
     ]
    }
   ],
   "source": [
    "log_reg = LogisticRegression(random_state=randomness)\n",
    "get_primary_view(log_reg,scaled_train_x,encoded_train_y,scaled_val_x,encoded_val_y)"
   ]
  },
  {
   "cell_type": "markdown",
   "id": "39f0651f-a50b-49fd-9543-ec2306fdf75b",
   "metadata": {},
   "source": [
    "#### Stochastic Gradient Descent (SGD Classifier)"
   ]
  },
  {
   "cell_type": "code",
   "execution_count": 12,
   "id": "a5095639-b2b1-40df-ae53-8afe20f270aa",
   "metadata": {},
   "outputs": [
    {
     "name": "stdout",
     "output_type": "stream",
     "text": [
      "Cross Validation Score\n",
      "\n",
      "Total Number of scores: 10\n",
      "Mean Score:    0.72\n",
      "Max Score:     0.75\n",
      "Min Score:     0.7\n",
      "St. Daviation: 0.019\n",
      "Scores:        [0.74632353 0.73161765 0.74632353 0.70955882 0.69852941 0.74632353\n",
      " 0.72794118 0.69852941 0.70220588 0.70955882]\n",
      "\n",
      "Validation Score\n",
      "\n",
      "Accuracy Score: 0.6875\n",
      "Confusion Matrix:\n",
      "[[143  97]\n",
      " [ 53 187]]\n",
      "\n"
     ]
    }
   ],
   "source": [
    "sgd_clf = SGDClassifier(early_stopping=True,max_iter=20000,random_state=randomness,penalty='elasticnet',l1_ratio=0.15)\n",
    "get_primary_view(sgd_clf,scaled_train_x,encoded_train_y,scaled_val_x,encoded_val_y)"
   ]
  },
  {
   "cell_type": "markdown",
   "id": "540f339f-7ea0-40c8-aedf-8690ee152d9a",
   "metadata": {},
   "source": [
    "#### Support Vector Classifier (SVC)"
   ]
  },
  {
   "cell_type": "code",
   "execution_count": 13,
   "id": "238f2bd8-9e58-4537-9c2e-3101b9d7163a",
   "metadata": {},
   "outputs": [
    {
     "name": "stdout",
     "output_type": "stream",
     "text": [
      "Cross Validation Score\n",
      "\n",
      "Total Number of scores: 10\n",
      "Mean Score:    0.89\n",
      "Max Score:     0.94\n",
      "Min Score:     0.85\n",
      "St. Daviation: 0.028\n",
      "Scores:        [0.88602941 0.9375     0.86764706 0.90441176 0.85294118 0.87132353\n",
      " 0.92279412 0.87867647 0.84926471 0.91176471]\n",
      "\n",
      "Validation Score\n",
      "\n",
      "Accuracy Score: 0.8875\n",
      "Confusion Matrix:\n",
      "[[208  32]\n",
      " [ 22 218]]\n",
      "\n"
     ]
    }
   ],
   "source": [
    "svc_clf = SVC(random_state=randomness)\n",
    "get_primary_view(svc_clf,scaled_train_x,encoded_train_y,scaled_val_x,encoded_val_y)"
   ]
  },
  {
   "cell_type": "markdown",
   "id": "954d4b8c-2d07-43c0-93c0-54053753c9d5",
   "metadata": {},
   "source": [
    "#### Decision Tree Classification"
   ]
  },
  {
   "cell_type": "code",
   "execution_count": 14,
   "id": "892ed73d-2815-465c-a981-a158a6395592",
   "metadata": {},
   "outputs": [
    {
     "name": "stdout",
     "output_type": "stream",
     "text": [
      "Cross Validation Score\n",
      "\n",
      "Total Number of scores: 10\n",
      "Mean Score:    0.81\n",
      "Max Score:     0.84\n",
      "Min Score:     0.77\n",
      "St. Daviation: 0.018\n",
      "Scores:        [0.80882353 0.80147059 0.81985294 0.81985294 0.81617647 0.80514706\n",
      " 0.82352941 0.80147059 0.76838235 0.83823529]\n",
      "\n",
      "Validation Score\n",
      "\n",
      "Accuracy Score: 0.80625\n",
      "Confusion Matrix:\n",
      "[[193  47]\n",
      " [ 46 194]]\n",
      "\n"
     ]
    }
   ],
   "source": [
    "dtree_clf = DecisionTreeClassifier(min_samples_leaf=4,random_state=randomness)\n",
    "get_primary_view(dtree_clf,scaled_train_x,encoded_train_y,scaled_val_x,encoded_val_y)"
   ]
  },
  {
   "cell_type": "markdown",
   "id": "55916970-8ee0-4e77-80c4-b76a76b6f5b7",
   "metadata": {},
   "source": [
    "#### Random Forest Classifier"
   ]
  },
  {
   "cell_type": "code",
   "execution_count": 15,
   "id": "f725b8fd-7cbf-4578-86d5-30633808773c",
   "metadata": {},
   "outputs": [
    {
     "name": "stdout",
     "output_type": "stream",
     "text": [
      "Cross Validation Score\n",
      "\n",
      "Total Number of scores: 10\n",
      "Mean Score:    0.88\n",
      "Max Score:     0.93\n",
      "Min Score:     0.84\n",
      "St. Daviation: 0.025\n",
      "Scores:        [0.87132353 0.92647059 0.875      0.88602941 0.84558824 0.85661765\n",
      " 0.89338235 0.87867647 0.84191176 0.90073529]\n",
      "\n",
      "Validation Score\n",
      "\n",
      "Accuracy Score: 0.875\n",
      "Confusion Matrix:\n",
      "[[207  33]\n",
      " [ 27 213]]\n",
      "\n"
     ]
    }
   ],
   "source": [
    "rf_clf = RandomForestClassifier(min_samples_leaf=4,random_state=randomness)\n",
    "get_primary_view(rf_clf,scaled_train_x,encoded_train_y,scaled_val_x,encoded_val_y)"
   ]
  },
  {
   "cell_type": "markdown",
   "id": "ddc97416-db66-4947-9413-a94b7e777a2c",
   "metadata": {},
   "source": [
    "#### Voting Classifier with above models"
   ]
  },
  {
   "cell_type": "code",
   "execution_count": 16,
   "id": "e860ba24-c359-412c-b36e-f4c474b2afc2",
   "metadata": {},
   "outputs": [
    {
     "name": "stdout",
     "output_type": "stream",
     "text": [
      "Cross Validation Score\n",
      "\n",
      "Total Number of scores: 10\n",
      "Mean Score:    0.86\n",
      "Max Score:     0.9\n",
      "Min Score:     0.82\n",
      "St. Daviation: 0.025\n",
      "Scores:        [0.86029412 0.89338235 0.86764706 0.86029412 0.83088235 0.86397059\n",
      " 0.90441176 0.84926471 0.82352941 0.88970588]\n",
      "\n",
      "Validation Score\n",
      "\n",
      "Accuracy Score: 0.8583333333333333\n",
      "Confusion Matrix:\n",
      "[[203  37]\n",
      " [ 31 209]]\n",
      "\n"
     ]
    }
   ],
   "source": [
    "estimators = [\n",
    "    ('log_reg',clone(log_reg)),\n",
    "    ('sgd_clf',clone(sgd_clf)),\n",
    "    ('svc_clf',clone(svc_clf)),\n",
    "    ('dtree_clf',clone(dtree_clf)),\n",
    "    ('rf_clf',clone(rf_clf))\n",
    "]\n",
    "voting_clf = VotingClassifier(estimators)\n",
    "get_primary_view(voting_clf,scaled_train_x,encoded_train_y,scaled_val_x,encoded_val_y)"
   ]
  },
  {
   "cell_type": "markdown",
   "id": "c21da8fe-3230-4a1c-bbd1-cfd88e56becc",
   "metadata": {},
   "source": [
    "#### Bagging Classifier with SVC"
   ]
  },
  {
   "cell_type": "code",
   "execution_count": 17,
   "id": "9ca3790c-85e1-45bf-b953-1d4d78d732b7",
   "metadata": {},
   "outputs": [
    {
     "name": "stdout",
     "output_type": "stream",
     "text": [
      "Cross Validation Score\n",
      "\n",
      "Total Number of scores: 10\n",
      "Mean Score:    0.89\n",
      "Max Score:     0.93\n",
      "Min Score:     0.86\n",
      "St. Daviation: 0.026\n",
      "Scores:        [0.89338235 0.93382353 0.87132353 0.90441176 0.85661765 0.875\n",
      " 0.92279412 0.87132353 0.85661765 0.90808824]\n",
      "\n",
      "Validation Score\n",
      "\n",
      "Accuracy Score: 0.8875\n",
      "Confusion Matrix:\n",
      "[[210  30]\n",
      " [ 24 216]]\n",
      "\n"
     ]
    }
   ],
   "source": [
    "#### Bagging Classifier with SVC\n",
    "\n",
    "bagging_clf = BaggingClassifier(estimator=clone(svc_clf),random_state=randomness)\n",
    "get_primary_view(bagging_clf,scaled_train_x,encoded_train_y,scaled_val_x,encoded_val_y)"
   ]
  },
  {
   "cell_type": "markdown",
   "id": "35d6d306-6fed-4d3d-99bb-67db8b628e4b",
   "metadata": {},
   "source": [
    "#### Stacking Classifier"
   ]
  },
  {
   "cell_type": "code",
   "execution_count": 18,
   "id": "adfdaf5e-ff32-4847-8bb9-93a87aabbabe",
   "metadata": {},
   "outputs": [
    {
     "name": "stdout",
     "output_type": "stream",
     "text": [
      "Cross Validation Score\n",
      "\n",
      "Total Number of scores: 10\n",
      "Mean Score:    0.89\n",
      "Max Score:     0.94\n",
      "Min Score:     0.85\n",
      "St. Daviation: 0.027\n",
      "Scores:        [0.88602941 0.9375     0.87867647 0.90808824 0.875      0.87867647\n",
      " 0.93014706 0.87132353 0.84926471 0.91544118]\n",
      "\n",
      "Validation Score\n",
      "\n",
      "Accuracy Score: 0.8958333333333334\n",
      "Confusion Matrix:\n",
      "[[213  27]\n",
      " [ 23 217]]\n",
      "\n"
     ]
    }
   ],
   "source": [
    "estimators = [\n",
    "    ('log_reg',clone(log_reg)),\n",
    "    ('sgd_clf',clone(sgd_clf)),\n",
    "    ('svc_clf',clone(svc_clf)),\n",
    "    ('dtree_clf',clone(dtree_clf)),\n",
    "]\n",
    "\n",
    "stk_clf = StackingClassifier(estimators,final_estimator=LogisticRegression(),cv=3)\n",
    "get_primary_view(stk_clf,scaled_train_x,encoded_train_y,scaled_val_x,encoded_val_y)"
   ]
  },
  {
   "cell_type": "markdown",
   "id": "4d2ed873-e622-4653-9350-899da1754ec2",
   "metadata": {},
   "source": [
    "### Introducing Cluster before final model"
   ]
  },
  {
   "cell_type": "markdown",
   "id": "0bcfdbdb-8b9a-4cd3-9c07-8614b9943e56",
   "metadata": {},
   "source": [
    "#### Trying KMean CLuster"
   ]
  },
  {
   "cell_type": "markdown",
   "id": "755f6c7e-85da-4d25-9055-2a7bb822fc25",
   "metadata": {},
   "source": [
    "##### Checking best number of cluster"
   ]
  },
  {
   "cell_type": "code",
   "execution_count": 19,
   "id": "569e7df6-fcad-44b0-8fe7-a52975fdfaa0",
   "metadata": {},
   "outputs": [
    {
     "data": {
      "image/png": "[encoded data removed]",
      "text/plain": [
       "<Figure size 640x480 with 1 Axes>"
      ]
     },
     "metadata": {},
     "output_type": "display_data"
    }
   ],
   "source": [
    "clusters = []\n",
    "scores = []\n",
    "for i in range(2,8):\n",
    "    kmean_clu = KMeans(n_clusters=i,n_init='auto',random_state=randomness)\n",
    "    kmean_clu.fit(scaled_train_x)\n",
    "    score = silhouette_score(scaled_train_x,kmean_clu.labels_,random_state=randomness)\n",
    "    clusters.append(i)\n",
    "    scores.append(score)\n",
    "\n",
    "best_score = scores[np.argmax(np.array(scores))]\n",
    "best_score_cluster = clusters[np.argmax(np.array(scores))]\n",
    "\n",
    "fig = plt.figure()\n",
    "ax = fig.add_subplot(111)\n",
    "ax.plot(clusters,scores)\n",
    "ax.scatter([best_score_cluster],[best_score],color='red')\n",
    "ax.annotate(\"Clu: {}\".format(best_score_cluster),xy=(best_score_cluster,best_score))\n",
    "ax.set_xlabel(\"Number of Cluster\")\n",
    "ax.set_ylabel(\"Silhouette Score\")\n",
    "ax.set_title(\"Silhouette Score of KMean\")\n",
    "plt.show()\n"
   ]
  },
  {
   "cell_type": "markdown",
   "id": "220033cd-4e0e-416b-aa5c-dc38a0d29496",
   "metadata": {},
   "source": [
    "##### Creating Model Pipe"
   ]
  },
  {
   "cell_type": "code",
   "execution_count": 20,
   "id": "4292b47d-acf1-436d-a29e-16456dc476e6",
   "metadata": {},
   "outputs": [
    {
     "name": "stdout",
     "output_type": "stream",
     "text": [
      "Cross Validation Score\n",
      "\n",
      "Total Number of scores: 10\n",
      "Mean Score:    0.82\n",
      "Max Score:     0.85\n",
      "Min Score:     0.8\n",
      "St. Daviation: 0.018\n",
      "Scores:        [0.80882353 0.85294118 0.80882353 0.80514706 0.80147059 0.83823529\n",
      " 0.81985294 0.82352941 0.8125     0.84926471]\n",
      "\n",
      "Validation Score\n",
      "\n",
      "Accuracy Score: 0.8229166666666666\n",
      "Confusion Matrix:\n",
      "[[200  40]\n",
      " [ 45 195]]\n",
      "\n"
     ]
    }
   ],
   "source": [
    "model_pipe_kmean = Pipeline([\n",
    "    ('kmean_clu', KMeans(n_clusters=best_score_cluster,random_state=randomness,n_init='auto')),\n",
    "    ('skl_clf', clone(stk_clf))\n",
    "])\n",
    "\n",
    "get_primary_view(model_pipe_kmean,scaled_train_x,encoded_train_y,scaled_val_x,encoded_val_y)"
   ]
  },
  {
   "cell_type": "markdown",
   "id": "12e4e80d-b903-4e2c-a5b4-b40270943112",
   "metadata": {},
   "source": [
    "##### Trying BayesianGaussianMixture"
   ]
  },
  {
   "cell_type": "code",
   "execution_count": 21,
   "id": "72900249-37cb-4cb6-b478-4c319b0ad6ea",
   "metadata": {},
   "outputs": [
    {
     "name": "stdout",
     "output_type": "stream",
     "text": [
      "Cross Validation Score\n",
      "\n",
      "Total Number of scores: 10\n",
      "Mean Score:    0.97\n",
      "Max Score:     0.99\n",
      "Min Score:     0.96\n",
      "St. Daviation: 0.01\n",
      "Scores:        [0.96323529 0.98529412 0.96323529 0.98529412 0.96323529 0.96691176\n",
      " 0.96323529 0.95955882 0.95955882 0.97794118]\n",
      "\n",
      "Validation Score\n",
      "\n",
      "Accuracy Score: 0.9729166666666667\n",
      "Confusion Matrix:\n",
      "[[233   7]\n",
      " [  6 234]]\n",
      "\n"
     ]
    }
   ],
   "source": [
    "model_pipe_bgm = Pipeline([\n",
    "    ('bgm_clu', CustomModel(BayesianGaussianMixture(n_components=10,random_state=randomness,max_iter=10000))),\n",
    "    ('skl_clf', clone(stk_clf))\n",
    "])\n",
    "\n",
    "get_primary_view(model_pipe_bgm,scaled_train_x,encoded_train_y,scaled_val_x,encoded_val_y)"
   ]
  },
  {
   "cell_type": "markdown",
   "id": "e7f7bc05-8fba-467f-8c7c-05fb43259ac4",
   "metadata": {},
   "source": [
    "**Therefore the best model is Stacking Classifier with BayesianGaussianMixture**"
   ]
  },
  {
   "cell_type": "markdown",
   "id": "ca3b5adc-7ea7-4891-8140-40be55928124",
   "metadata": {},
   "source": [
    "### Training Final Model "
   ]
  },
  {
   "cell_type": "code",
   "execution_count": 22,
   "id": "a1049591-b188-498d-8140-38205663ecaf",
   "metadata": {},
   "outputs": [
    {
     "data": {
      "text/html": [
       "<style>#sk-container-id-1 {color: black;}#sk-container-id-1 pre{padding: 0;}#sk-container-id-1 div.sk-toggleable {background-color: white;}#sk-container-id-1 label.sk-toggleable__label {cursor: pointer;display: block;width: 100%;margin-bottom: 0;padding: 0.3em;box-sizing: border-box;text-align: center;}#sk-container-id-1 label.sk-toggleable__label-arrow:before {content: \"▸\";float: left;margin-right: 0.25em;color: #696969;}#sk-container-id-1 label.sk-toggleable__label-arrow:hover:before {color: black;}#sk-container-id-1 div.sk-estimator:hover label.sk-toggleable__label-arrow:before {color: black;}#sk-container-id-1 div.sk-toggleable__content {max-height: 0;max-width: 0;overflow: hidden;text-align: left;background-color: #f0f8ff;}#sk-container-id-1 div.sk-toggleable__content pre {margin: 0.2em;color: black;border-radius: 0.25em;background-color: #f0f8ff;}#sk-container-id-1 input.sk-toggleable__control:checked~div.sk-toggleable__content {max-height: 200px;max-width: 100%;overflow: auto;}#sk-container-id-1 input.sk-toggleable__control:checked~label.sk-toggleable__label-arrow:before {content: \"▾\";}#sk-container-id-1 div.sk-estimator input.sk-toggleable__control:checked~label.sk-toggleable__label {background-color: #d4ebff;}#sk-container-id-1 div.sk-label input.sk-toggleable__control:checked~label.sk-toggleable__label {background-color: #d4ebff;}#sk-container-id-1 input.sk-hidden--visually {border: 0;clip: rect(1px 1px 1px 1px);clip: rect(1px, 1px, 1px, 1px);height: 1px;margin: -1px;overflow: hidden;padding: 0;position: absolute;width: 1px;}#sk-container-id-1 div.sk-estimator {font-family: monospace;background-color: #f0f8ff;border: 1px dotted black;border-radius: 0.25em;box-sizing: border-box;margin-bottom: 0.5em;}#sk-container-id-1 div.sk-estimator:hover {background-color: #d4ebff;}#sk-container-id-1 div.sk-parallel-item::after {content: \"\";width: 100%;border-bottom: 1px solid gray;flex-grow: 1;}#sk-container-id-1 div.sk-label:hover label.sk-toggleable__label {background-color: #d4ebff;}#sk-container-id-1 div.sk-serial::before {content: \"\";position: absolute;border-left: 1px solid gray;box-sizing: border-box;top: 0;bottom: 0;left: 50%;z-index: 0;}#sk-container-id-1 div.sk-serial {display: flex;flex-direction: column;align-items: center;background-color: white;padding-right: 0.2em;padding-left: 0.2em;position: relative;}#sk-container-id-1 div.sk-item {position: relative;z-index: 1;}#sk-container-id-1 div.sk-parallel {display: flex;align-items: stretch;justify-content: center;background-color: white;position: relative;}#sk-container-id-1 div.sk-item::before, #sk-container-id-1 div.sk-parallel-item::before {content: \"\";position: absolute;border-left: 1px solid gray;box-sizing: border-box;top: 0;bottom: 0;left: 50%;z-index: -1;}#sk-container-id-1 div.sk-parallel-item {display: flex;flex-direction: column;z-index: 1;position: relative;background-color: white;}#sk-container-id-1 div.sk-parallel-item:first-child::after {align-self: flex-end;width: 50%;}#sk-container-id-1 div.sk-parallel-item:last-child::after {align-self: flex-start;width: 50%;}#sk-container-id-1 div.sk-parallel-item:only-child::after {width: 0;}#sk-container-id-1 div.sk-dashed-wrapped {border: 1px dashed gray;margin: 0 0.4em 0.5em 0.4em;box-sizing: border-box;padding-bottom: 0.4em;background-color: white;}#sk-container-id-1 div.sk-label label {font-family: monospace;font-weight: bold;display: inline-block;line-height: 1.2em;}#sk-container-id-1 div.sk-label-container {text-align: center;}#sk-container-id-1 div.sk-container {/* jupyter's `normalize.less` sets `[hidden] { display: none; }` but bootstrap.min.css set `[hidden] { display: none !important; }` so we also need the `!important` here to be able to override the default hidden behavior on the sphinx rendered scikit-learn.org. See: https://github.com/scikit-learn/scikit-learn/issues/21755 */display: inline-block !important;position: relative;}#sk-container-id-1 div.sk-text-repr-fallback {display: none;}</style><div id=\"sk-container-id-1\" class=\"sk-top-container\"><div class=\"sk-text-repr-fallback\"><pre>Pipeline(steps=[(&#x27;bgm_clu&#x27;,\n",
       "                 CustomModel(model=BayesianGaussianMixture(max_iter=10000,\n",
       "                                                           n_components=10,\n",
       "                                                           random_state=42))),\n",
       "                (&#x27;skl_clf&#x27;,\n",
       "                 StackingClassifier(cv=3,\n",
       "                                    estimators=[(&#x27;log_reg&#x27;,\n",
       "                                                 LogisticRegression(random_state=42)),\n",
       "                                                (&#x27;sgd_clf&#x27;,\n",
       "                                                 SGDClassifier(early_stopping=True,\n",
       "                                                               max_iter=20000,\n",
       "                                                               penalty=&#x27;elasticnet&#x27;,\n",
       "                                                               random_state=42)),\n",
       "                                                (&#x27;svc_clf&#x27;,\n",
       "                                                 SVC(random_state=42)),\n",
       "                                                (&#x27;dtree_clf&#x27;,\n",
       "                                                 DecisionTreeClassifier(min_samples_leaf=4,\n",
       "                                                                        random_state=42))],\n",
       "                                    final_estimator=LogisticRegression()))])</pre><b>In a Jupyter environment, please rerun this cell to show the HTML representation or trust the notebook. <br />On GitHub, the HTML representation is unable to render, please try loading this page with nbviewer.org.</b></div><div class=\"sk-container\" hidden><div class=\"sk-item sk-dashed-wrapped\"><div class=\"sk-label-container\"><div class=\"sk-label sk-toggleable\"><input class=\"sk-toggleable__control sk-hidden--visually\" id=\"sk-estimator-id-1\" type=\"checkbox\" ><label for=\"sk-estimator-id-1\" class=\"sk-toggleable__label sk-toggleable__label-arrow\">Pipeline</label><div class=\"sk-toggleable__content\"><pre>Pipeline(steps=[(&#x27;bgm_clu&#x27;,\n",
       "                 CustomModel(model=BayesianGaussianMixture(max_iter=10000,\n",
       "                                                           n_components=10,\n",
       "                                                           random_state=42))),\n",
       "                (&#x27;skl_clf&#x27;,\n",
       "                 StackingClassifier(cv=3,\n",
       "                                    estimators=[(&#x27;log_reg&#x27;,\n",
       "                                                 LogisticRegression(random_state=42)),\n",
       "                                                (&#x27;sgd_clf&#x27;,\n",
       "                                                 SGDClassifier(early_stopping=True,\n",
       "                                                               max_iter=20000,\n",
       "                                                               penalty=&#x27;elasticnet&#x27;,\n",
       "                                                               random_state=42)),\n",
       "                                                (&#x27;svc_clf&#x27;,\n",
       "                                                 SVC(random_state=42)),\n",
       "                                                (&#x27;dtree_clf&#x27;,\n",
       "                                                 DecisionTreeClassifier(min_samples_leaf=4,\n",
       "                                                                        random_state=42))],\n",
       "                                    final_estimator=LogisticRegression()))])</pre></div></div></div><div class=\"sk-serial\"><div class=\"sk-item sk-dashed-wrapped\"><div class=\"sk-label-container\"><div class=\"sk-label sk-toggleable\"><input class=\"sk-toggleable__control sk-hidden--visually\" id=\"sk-estimator-id-2\" type=\"checkbox\" ><label for=\"sk-estimator-id-2\" class=\"sk-toggleable__label sk-toggleable__label-arrow\">bgm_clu: CustomModel</label><div class=\"sk-toggleable__content\"><pre>CustomModel(model=BayesianGaussianMixture(max_iter=10000, n_components=10,\n",
       "                                          random_state=42))</pre></div></div></div><div class=\"sk-parallel\"><div class=\"sk-parallel-item\"><div class=\"sk-item\"><div class=\"sk-label-container\"><div class=\"sk-label sk-toggleable\"><input class=\"sk-toggleable__control sk-hidden--visually\" id=\"sk-estimator-id-3\" type=\"checkbox\" ><label for=\"sk-estimator-id-3\" class=\"sk-toggleable__label sk-toggleable__label-arrow\">model: BayesianGaussianMixture</label><div class=\"sk-toggleable__content\"><pre>BayesianGaussianMixture(max_iter=10000, n_components=10, random_state=42)</pre></div></div></div><div class=\"sk-serial\"><div class=\"sk-item\"><div class=\"sk-estimator sk-toggleable\"><input class=\"sk-toggleable__control sk-hidden--visually\" id=\"sk-estimator-id-4\" type=\"checkbox\" ><label for=\"sk-estimator-id-4\" class=\"sk-toggleable__label sk-toggleable__label-arrow\">BayesianGaussianMixture</label><div class=\"sk-toggleable__content\"><pre>BayesianGaussianMixture(max_iter=10000, n_components=10, random_state=42)</pre></div></div></div></div></div></div></div></div><div class=\"sk-item\"><div class=\"sk-label-container\"><div class=\"sk-label sk-toggleable\"><input class=\"sk-toggleable__control sk-hidden--visually\" id=\"sk-estimator-id-5\" type=\"checkbox\" ><label for=\"sk-estimator-id-5\" class=\"sk-toggleable__label sk-toggleable__label-arrow\">skl_clf: StackingClassifier</label><div class=\"sk-toggleable__content\"><pre>StackingClassifier(cv=3,\n",
       "                   estimators=[(&#x27;log_reg&#x27;, LogisticRegression(random_state=42)),\n",
       "                               (&#x27;sgd_clf&#x27;,\n",
       "                                SGDClassifier(early_stopping=True,\n",
       "                                              max_iter=20000,\n",
       "                                              penalty=&#x27;elasticnet&#x27;,\n",
       "                                              random_state=42)),\n",
       "                               (&#x27;svc_clf&#x27;, SVC(random_state=42)),\n",
       "                               (&#x27;dtree_clf&#x27;,\n",
       "                                DecisionTreeClassifier(min_samples_leaf=4,\n",
       "                                                       random_state=42))],\n",
       "                   final_estimator=LogisticRegression())</pre></div></div></div><div class=\"sk-serial\"><div class=\"sk-item\"><div class=\"sk-parallel\"><div class=\"sk-parallel-item\"><div class=\"sk-item\"><div class=\"sk-label-container\"><div class=\"sk-label sk-toggleable\"><label>log_reg</label></div></div><div class=\"sk-serial\"><div class=\"sk-item\"><div class=\"sk-estimator sk-toggleable\"><input class=\"sk-toggleable__control sk-hidden--visually\" id=\"sk-estimator-id-6\" type=\"checkbox\" ><label for=\"sk-estimator-id-6\" class=\"sk-toggleable__label sk-toggleable__label-arrow\">LogisticRegression</label><div class=\"sk-toggleable__content\"><pre>LogisticRegression(random_state=42)</pre></div></div></div></div></div></div><div class=\"sk-parallel-item\"><div class=\"sk-item\"><div class=\"sk-label-container\"><div class=\"sk-label sk-toggleable\"><label>sgd_clf</label></div></div><div class=\"sk-serial\"><div class=\"sk-item\"><div class=\"sk-estimator sk-toggleable\"><input class=\"sk-toggleable__control sk-hidden--visually\" id=\"sk-estimator-id-7\" type=\"checkbox\" ><label for=\"sk-estimator-id-7\" class=\"sk-toggleable__label sk-toggleable__label-arrow\">SGDClassifier</label><div class=\"sk-toggleable__content\"><pre>SGDClassifier(early_stopping=True, max_iter=20000, penalty=&#x27;elasticnet&#x27;,\n",
       "              random_state=42)</pre></div></div></div></div></div></div><div class=\"sk-parallel-item\"><div class=\"sk-item\"><div class=\"sk-label-container\"><div class=\"sk-label sk-toggleable\"><label>svc_clf</label></div></div><div class=\"sk-serial\"><div class=\"sk-item\"><div class=\"sk-estimator sk-toggleable\"><input class=\"sk-toggleable__control sk-hidden--visually\" id=\"sk-estimator-id-8\" type=\"checkbox\" ><label for=\"sk-estimator-id-8\" class=\"sk-toggleable__label sk-toggleable__label-arrow\">SVC</label><div class=\"sk-toggleable__content\"><pre>SVC(random_state=42)</pre></div></div></div></div></div></div><div class=\"sk-parallel-item\"><div class=\"sk-item\"><div class=\"sk-label-container\"><div class=\"sk-label sk-toggleable\"><label>dtree_clf</label></div></div><div class=\"sk-serial\"><div class=\"sk-item\"><div class=\"sk-estimator sk-toggleable\"><input class=\"sk-toggleable__control sk-hidden--visually\" id=\"sk-estimator-id-9\" type=\"checkbox\" ><label for=\"sk-estimator-id-9\" class=\"sk-toggleable__label sk-toggleable__label-arrow\">DecisionTreeClassifier</label><div class=\"sk-toggleable__content\"><pre>DecisionTreeClassifier(min_samples_leaf=4, random_state=42)</pre></div></div></div></div></div></div></div></div><div class=\"sk-item\"><div class=\"sk-parallel\"><div class=\"sk-parallel-item\"><div class=\"sk-item\"><div class=\"sk-label-container\"><div class=\"sk-label sk-toggleable\"><label>final_estimator</label></div></div><div class=\"sk-serial\"><div class=\"sk-item\"><div class=\"sk-estimator sk-toggleable\"><input class=\"sk-toggleable__control sk-hidden--visually\" id=\"sk-estimator-id-10\" type=\"checkbox\" ><label for=\"sk-estimator-id-10\" class=\"sk-toggleable__label sk-toggleable__label-arrow\">LogisticRegression</label><div class=\"sk-toggleable__content\"><pre>LogisticRegression()</pre></div></div></div></div></div></div></div></div></div></div></div></div></div></div>"
      ],
      "text/plain": [
       "Pipeline(steps=[('bgm_clu',\n",
       "                 CustomModel(model=BayesianGaussianMixture(max_iter=10000,\n",
       "                                                           n_components=10,\n",
       "                                                           random_state=42))),\n",
       "                ('skl_clf',\n",
       "                 StackingClassifier(cv=3,\n",
       "                                    estimators=[('log_reg',\n",
       "                                                 LogisticRegression(random_state=42)),\n",
       "                                                ('sgd_clf',\n",
       "                                                 SGDClassifier(early_stopping=True,\n",
       "                                                               max_iter=20000,\n",
       "                                                               penalty='elasticnet',\n",
       "                                                               random_state=42)),\n",
       "                                                ('svc_clf',\n",
       "                                                 SVC(random_state=42)),\n",
       "                                                ('dtree_clf',\n",
       "                                                 DecisionTreeClassifier(min_samples_leaf=4,\n",
       "                                                                        random_state=42))],\n",
       "                                    final_estimator=LogisticRegression()))])"
      ]
     },
     "execution_count": 22,
     "metadata": {},
     "output_type": "execute_result"
    }
   ],
   "source": [
    "final_model = clone(model_pipe_bgm)\n",
    "\n",
    "final_model.fit(x_scaler.transform(train_val_x),y_encoder.transform(train_val_y))\n",
    "# final_model.fit(scaled_train_x,encoded_train_y)"
   ]
  },
  {
   "cell_type": "code",
   "execution_count": 23,
   "id": "c362fd21-2ae9-4b16-bf32-644d532ce2f5",
   "metadata": {},
   "outputs": [
    {
     "data": {
      "image/png": "[encoded data removed]",
      "text/plain": [
       "<Figure size 640x480 with 1 Axes>"
      ]
     },
     "metadata": {},
     "output_type": "display_data"
    }
   ],
   "source": [
    "plot_rocs([('final_model',final_model)],scaled_train_x,encoded_train_y)"
   ]
  },
  {
   "cell_type": "markdown",
   "id": "d2b39a7f-48e0-4e66-9ecf-adbaf94e3fff",
   "metadata": {},
   "source": [
    "### SCORE IN TEST SET (UNSEEN DATA)"
   ]
  },
  {
   "cell_type": "code",
   "execution_count": 24,
   "id": "963be5b7-1eee-4dc1-8bc8-cce0d9486723",
   "metadata": {},
   "outputs": [
    {
     "name": "stdout",
     "output_type": "stream",
     "text": [
      "\n",
      "Accuracy Score: 0.96375\n",
      "Confusion Matrix:\n",
      "[[386  13]\n",
      " [ 16 385]]\n",
      "\n"
     ]
    }
   ],
   "source": [
    "scaled_test_x = x_scaler.transform(test_x)\n",
    "encoded_test_y = y_encoder.transform(test_y)\n",
    "\n",
    "final_predict = final_model.predict(scaled_test_x)\n",
    "\n",
    "view_score(encoded_test_y,final_predict)"
   ]
  },
  {
   "cell_type": "markdown",
   "id": "a80c964f-a214-4c00-9c2d-8e0df711897a",
   "metadata": {},
   "source": [
    "### Creating Pipeline on final model"
   ]
  },
  {
   "cell_type": "code",
   "execution_count": 25,
   "id": "5986b939-659f-400f-ad00-52d4daa64787",
   "metadata": {},
   "outputs": [
    {
     "data": {
      "text/html": [
       "<style>#sk-container-id-2 {color: black;}#sk-container-id-2 pre{padding: 0;}#sk-container-id-2 div.sk-toggleable {background-color: white;}#sk-container-id-2 label.sk-toggleable__label {cursor: pointer;display: block;width: 100%;margin-bottom: 0;padding: 0.3em;box-sizing: border-box;text-align: center;}#sk-container-id-2 label.sk-toggleable__label-arrow:before {content: \"▸\";float: left;margin-right: 0.25em;color: #696969;}#sk-container-id-2 label.sk-toggleable__label-arrow:hover:before {color: black;}#sk-container-id-2 div.sk-estimator:hover label.sk-toggleable__label-arrow:before {color: black;}#sk-container-id-2 div.sk-toggleable__content {max-height: 0;max-width: 0;overflow: hidden;text-align: left;background-color: #f0f8ff;}#sk-container-id-2 div.sk-toggleable__content pre {margin: 0.2em;color: black;border-radius: 0.25em;background-color: #f0f8ff;}#sk-container-id-2 input.sk-toggleable__control:checked~div.sk-toggleable__content {max-height: 200px;max-width: 100%;overflow: auto;}#sk-container-id-2 input.sk-toggleable__control:checked~label.sk-toggleable__label-arrow:before {content: \"▾\";}#sk-container-id-2 div.sk-estimator input.sk-toggleable__control:checked~label.sk-toggleable__label {background-color: #d4ebff;}#sk-container-id-2 div.sk-label input.sk-toggleable__control:checked~label.sk-toggleable__label {background-color: #d4ebff;}#sk-container-id-2 input.sk-hidden--visually {border: 0;clip: rect(1px 1px 1px 1px);clip: rect(1px, 1px, 1px, 1px);height: 1px;margin: -1px;overflow: hidden;padding: 0;position: absolute;width: 1px;}#sk-container-id-2 div.sk-estimator {font-family: monospace;background-color: #f0f8ff;border: 1px dotted black;border-radius: 0.25em;box-sizing: border-box;margin-bottom: 0.5em;}#sk-container-id-2 div.sk-estimator:hover {background-color: #d4ebff;}#sk-container-id-2 div.sk-parallel-item::after {content: \"\";width: 100%;border-bottom: 1px solid gray;flex-grow: 1;}#sk-container-id-2 div.sk-label:hover label.sk-toggleable__label {background-color: #d4ebff;}#sk-container-id-2 div.sk-serial::before {content: \"\";position: absolute;border-left: 1px solid gray;box-sizing: border-box;top: 0;bottom: 0;left: 50%;z-index: 0;}#sk-container-id-2 div.sk-serial {display: flex;flex-direction: column;align-items: center;background-color: white;padding-right: 0.2em;padding-left: 0.2em;position: relative;}#sk-container-id-2 div.sk-item {position: relative;z-index: 1;}#sk-container-id-2 div.sk-parallel {display: flex;align-items: stretch;justify-content: center;background-color: white;position: relative;}#sk-container-id-2 div.sk-item::before, #sk-container-id-2 div.sk-parallel-item::before {content: \"\";position: absolute;border-left: 1px solid gray;box-sizing: border-box;top: 0;bottom: 0;left: 50%;z-index: -1;}#sk-container-id-2 div.sk-parallel-item {display: flex;flex-direction: column;z-index: 1;position: relative;background-color: white;}#sk-container-id-2 div.sk-parallel-item:first-child::after {align-self: flex-end;width: 50%;}#sk-container-id-2 div.sk-parallel-item:last-child::after {align-self: flex-start;width: 50%;}#sk-container-id-2 div.sk-parallel-item:only-child::after {width: 0;}#sk-container-id-2 div.sk-dashed-wrapped {border: 1px dashed gray;margin: 0 0.4em 0.5em 0.4em;box-sizing: border-box;padding-bottom: 0.4em;background-color: white;}#sk-container-id-2 div.sk-label label {font-family: monospace;font-weight: bold;display: inline-block;line-height: 1.2em;}#sk-container-id-2 div.sk-label-container {text-align: center;}#sk-container-id-2 div.sk-container {/* jupyter's `normalize.less` sets `[hidden] { display: none; }` but bootstrap.min.css set `[hidden] { display: none !important; }` so we also need the `!important` here to be able to override the default hidden behavior on the sphinx rendered scikit-learn.org. See: https://github.com/scikit-learn/scikit-learn/issues/21755 */display: inline-block !important;position: relative;}#sk-container-id-2 div.sk-text-repr-fallback {display: none;}</style><div id=\"sk-container-id-2\" class=\"sk-top-container\"><div class=\"sk-text-repr-fallback\"><pre>Pipeline(steps=[(&#x27;x_floater&#x27;, X_Floater()), (&#x27;x_scaler&#x27;, StandardScaler()),\n",
       "                (&#x27;bgm_clu&#x27;,\n",
       "                 CustomModel(model=BayesianGaussianMixture(max_iter=10000,\n",
       "                                                           n_components=10,\n",
       "                                                           random_state=42))),\n",
       "                (&#x27;skl_clf&#x27;,\n",
       "                 StackingClassifier(cv=3,\n",
       "                                    estimators=[(&#x27;log_reg&#x27;,\n",
       "                                                 LogisticRegression(random_state=42)),\n",
       "                                                (&#x27;sgd_clf&#x27;,\n",
       "                                                 SGDClassifier(early_stopping=True,\n",
       "                                                               max_iter=20000,\n",
       "                                                               penalty=&#x27;elasticnet&#x27;,\n",
       "                                                               random_state=42)),\n",
       "                                                (&#x27;svc_clf&#x27;,\n",
       "                                                 SVC(random_state=42)),\n",
       "                                                (&#x27;dtree_clf&#x27;,\n",
       "                                                 DecisionTreeClassifier(min_samples_leaf=4,\n",
       "                                                                        random_state=42))],\n",
       "                                    final_estimator=LogisticRegression()))])</pre><b>In a Jupyter environment, please rerun this cell to show the HTML representation or trust the notebook. <br />On GitHub, the HTML representation is unable to render, please try loading this page with nbviewer.org.</b></div><div class=\"sk-container\" hidden><div class=\"sk-item sk-dashed-wrapped\"><div class=\"sk-label-container\"><div class=\"sk-label sk-toggleable\"><input class=\"sk-toggleable__control sk-hidden--visually\" id=\"sk-estimator-id-11\" type=\"checkbox\" ><label for=\"sk-estimator-id-11\" class=\"sk-toggleable__label sk-toggleable__label-arrow\">Pipeline</label><div class=\"sk-toggleable__content\"><pre>Pipeline(steps=[(&#x27;x_floater&#x27;, X_Floater()), (&#x27;x_scaler&#x27;, StandardScaler()),\n",
       "                (&#x27;bgm_clu&#x27;,\n",
       "                 CustomModel(model=BayesianGaussianMixture(max_iter=10000,\n",
       "                                                           n_components=10,\n",
       "                                                           random_state=42))),\n",
       "                (&#x27;skl_clf&#x27;,\n",
       "                 StackingClassifier(cv=3,\n",
       "                                    estimators=[(&#x27;log_reg&#x27;,\n",
       "                                                 LogisticRegression(random_state=42)),\n",
       "                                                (&#x27;sgd_clf&#x27;,\n",
       "                                                 SGDClassifier(early_stopping=True,\n",
       "                                                               max_iter=20000,\n",
       "                                                               penalty=&#x27;elasticnet&#x27;,\n",
       "                                                               random_state=42)),\n",
       "                                                (&#x27;svc_clf&#x27;,\n",
       "                                                 SVC(random_state=42)),\n",
       "                                                (&#x27;dtree_clf&#x27;,\n",
       "                                                 DecisionTreeClassifier(min_samples_leaf=4,\n",
       "                                                                        random_state=42))],\n",
       "                                    final_estimator=LogisticRegression()))])</pre></div></div></div><div class=\"sk-serial\"><div class=\"sk-item\"><div class=\"sk-estimator sk-toggleable\"><input class=\"sk-toggleable__control sk-hidden--visually\" id=\"sk-estimator-id-12\" type=\"checkbox\" ><label for=\"sk-estimator-id-12\" class=\"sk-toggleable__label sk-toggleable__label-arrow\">X_Floater</label><div class=\"sk-toggleable__content\"><pre>X_Floater()</pre></div></div></div><div class=\"sk-item\"><div class=\"sk-estimator sk-toggleable\"><input class=\"sk-toggleable__control sk-hidden--visually\" id=\"sk-estimator-id-13\" type=\"checkbox\" ><label for=\"sk-estimator-id-13\" class=\"sk-toggleable__label sk-toggleable__label-arrow\">StandardScaler</label><div class=\"sk-toggleable__content\"><pre>StandardScaler()</pre></div></div></div><div class=\"sk-item sk-dashed-wrapped\"><div class=\"sk-label-container\"><div class=\"sk-label sk-toggleable\"><input class=\"sk-toggleable__control sk-hidden--visually\" id=\"sk-estimator-id-14\" type=\"checkbox\" ><label for=\"sk-estimator-id-14\" class=\"sk-toggleable__label sk-toggleable__label-arrow\">bgm_clu: CustomModel</label><div class=\"sk-toggleable__content\"><pre>CustomModel(model=BayesianGaussianMixture(max_iter=10000, n_components=10,\n",
       "                                          random_state=42))</pre></div></div></div><div class=\"sk-parallel\"><div class=\"sk-parallel-item\"><div class=\"sk-item\"><div class=\"sk-label-container\"><div class=\"sk-label sk-toggleable\"><input class=\"sk-toggleable__control sk-hidden--visually\" id=\"sk-estimator-id-15\" type=\"checkbox\" ><label for=\"sk-estimator-id-15\" class=\"sk-toggleable__label sk-toggleable__label-arrow\">model: BayesianGaussianMixture</label><div class=\"sk-toggleable__content\"><pre>BayesianGaussianMixture(max_iter=10000, n_components=10, random_state=42)</pre></div></div></div><div class=\"sk-serial\"><div class=\"sk-item\"><div class=\"sk-estimator sk-toggleable\"><input class=\"sk-toggleable__control sk-hidden--visually\" id=\"sk-estimator-id-16\" type=\"checkbox\" ><label for=\"sk-estimator-id-16\" class=\"sk-toggleable__label sk-toggleable__label-arrow\">BayesianGaussianMixture</label><div class=\"sk-toggleable__content\"><pre>BayesianGaussianMixture(max_iter=10000, n_components=10, random_state=42)</pre></div></div></div></div></div></div></div></div><div class=\"sk-item\"><div class=\"sk-label-container\"><div class=\"sk-label sk-toggleable\"><input class=\"sk-toggleable__control sk-hidden--visually\" id=\"sk-estimator-id-17\" type=\"checkbox\" ><label for=\"sk-estimator-id-17\" class=\"sk-toggleable__label sk-toggleable__label-arrow\">skl_clf: StackingClassifier</label><div class=\"sk-toggleable__content\"><pre>StackingClassifier(cv=3,\n",
       "                   estimators=[(&#x27;log_reg&#x27;, LogisticRegression(random_state=42)),\n",
       "                               (&#x27;sgd_clf&#x27;,\n",
       "                                SGDClassifier(early_stopping=True,\n",
       "                                              max_iter=20000,\n",
       "                                              penalty=&#x27;elasticnet&#x27;,\n",
       "                                              random_state=42)),\n",
       "                               (&#x27;svc_clf&#x27;, SVC(random_state=42)),\n",
       "                               (&#x27;dtree_clf&#x27;,\n",
       "                                DecisionTreeClassifier(min_samples_leaf=4,\n",
       "                                                       random_state=42))],\n",
       "                   final_estimator=LogisticRegression())</pre></div></div></div><div class=\"sk-serial\"><div class=\"sk-item\"><div class=\"sk-parallel\"><div class=\"sk-parallel-item\"><div class=\"sk-item\"><div class=\"sk-label-container\"><div class=\"sk-label sk-toggleable\"><label>log_reg</label></div></div><div class=\"sk-serial\"><div class=\"sk-item\"><div class=\"sk-estimator sk-toggleable\"><input class=\"sk-toggleable__control sk-hidden--visually\" id=\"sk-estimator-id-18\" type=\"checkbox\" ><label for=\"sk-estimator-id-18\" class=\"sk-toggleable__label sk-toggleable__label-arrow\">LogisticRegression</label><div class=\"sk-toggleable__content\"><pre>LogisticRegression(random_state=42)</pre></div></div></div></div></div></div><div class=\"sk-parallel-item\"><div class=\"sk-item\"><div class=\"sk-label-container\"><div class=\"sk-label sk-toggleable\"><label>sgd_clf</label></div></div><div class=\"sk-serial\"><div class=\"sk-item\"><div class=\"sk-estimator sk-toggleable\"><input class=\"sk-toggleable__control sk-hidden--visually\" id=\"sk-estimator-id-19\" type=\"checkbox\" ><label for=\"sk-estimator-id-19\" class=\"sk-toggleable__label sk-toggleable__label-arrow\">SGDClassifier</label><div class=\"sk-toggleable__content\"><pre>SGDClassifier(early_stopping=True, max_iter=20000, penalty=&#x27;elasticnet&#x27;,\n",
       "              random_state=42)</pre></div></div></div></div></div></div><div class=\"sk-parallel-item\"><div class=\"sk-item\"><div class=\"sk-label-container\"><div class=\"sk-label sk-toggleable\"><label>svc_clf</label></div></div><div class=\"sk-serial\"><div class=\"sk-item\"><div class=\"sk-estimator sk-toggleable\"><input class=\"sk-toggleable__control sk-hidden--visually\" id=\"sk-estimator-id-20\" type=\"checkbox\" ><label for=\"sk-estimator-id-20\" class=\"sk-toggleable__label sk-toggleable__label-arrow\">SVC</label><div class=\"sk-toggleable__content\"><pre>SVC(random_state=42)</pre></div></div></div></div></div></div><div class=\"sk-parallel-item\"><div class=\"sk-item\"><div class=\"sk-label-container\"><div class=\"sk-label sk-toggleable\"><label>dtree_clf</label></div></div><div class=\"sk-serial\"><div class=\"sk-item\"><div class=\"sk-estimator sk-toggleable\"><input class=\"sk-toggleable__control sk-hidden--visually\" id=\"sk-estimator-id-21\" type=\"checkbox\" ><label for=\"sk-estimator-id-21\" class=\"sk-toggleable__label sk-toggleable__label-arrow\">DecisionTreeClassifier</label><div class=\"sk-toggleable__content\"><pre>DecisionTreeClassifier(min_samples_leaf=4, random_state=42)</pre></div></div></div></div></div></div></div></div><div class=\"sk-item\"><div class=\"sk-parallel\"><div class=\"sk-parallel-item\"><div class=\"sk-item\"><div class=\"sk-label-container\"><div class=\"sk-label sk-toggleable\"><label>final_estimator</label></div></div><div class=\"sk-serial\"><div class=\"sk-item\"><div class=\"sk-estimator sk-toggleable\"><input class=\"sk-toggleable__control sk-hidden--visually\" id=\"sk-estimator-id-22\" type=\"checkbox\" ><label for=\"sk-estimator-id-22\" class=\"sk-toggleable__label sk-toggleable__label-arrow\">LogisticRegression</label><div class=\"sk-toggleable__content\"><pre>LogisticRegression()</pre></div></div></div></div></div></div></div></div></div></div></div></div></div></div>"
      ],
      "text/plain": [
       "Pipeline(steps=[('x_floater', X_Floater()), ('x_scaler', StandardScaler()),\n",
       "                ('bgm_clu',\n",
       "                 CustomModel(model=BayesianGaussianMixture(max_iter=10000,\n",
       "                                                           n_components=10,\n",
       "                                                           random_state=42))),\n",
       "                ('skl_clf',\n",
       "                 StackingClassifier(cv=3,\n",
       "                                    estimators=[('log_reg',\n",
       "                                                 LogisticRegression(random_state=42)),\n",
       "                                                ('sgd_clf',\n",
       "                                                 SGDClassifier(early_stopping=True,\n",
       "                                                               max_iter=20000,\n",
       "                                                               penalty='elasticnet',\n",
       "                                                               random_state=42)),\n",
       "                                                ('svc_clf',\n",
       "                                                 SVC(random_state=42)),\n",
       "                                                ('dtree_clf',\n",
       "                                                 DecisionTreeClassifier(min_samples_leaf=4,\n",
       "                                                                        random_state=42))],\n",
       "                                    final_estimator=LogisticRegression()))])"
      ]
     },
     "execution_count": 25,
     "metadata": {},
     "output_type": "execute_result"
    }
   ],
   "source": [
    "pipeline_final = Pipeline([\n",
    "    ('x_floater',X_Floater()),\n",
    "    ('x_scaler',StandardScaler()),\n",
    "    ('bgm_clu', CustomModel(BayesianGaussianMixture(n_components=10,random_state=randomness,max_iter=10000))),\n",
    "    ('skl_clf', clone(stk_clf))\n",
    "])\n",
    "\n",
    "\n",
    "pipeline_final.fit(train_x,encoded_train_y)"
   ]
  },
  {
   "cell_type": "code",
   "execution_count": 26,
   "id": "693a39e2-e996-4198-8f5b-323a73cd94d5",
   "metadata": {},
   "outputs": [
    {
     "name": "stdout",
     "output_type": "stream",
     "text": [
      "\n",
      "Accuracy Score: 0.96375\n",
      "Confusion Matrix:\n",
      "[[387  12]\n",
      " [ 17 384]]\n",
      "\n"
     ]
    }
   ],
   "source": [
    "encoded_test_y = y_encoder.transform(test_y)\n",
    "\n",
    "final_predict = pipeline_final.predict(test_x)\n",
    "\n",
    "view_score(encoded_test_y,final_predict)"
   ]
  },
  {
   "cell_type": "code",
   "execution_count": 27,
   "id": "1a844af1-a2fb-4113-9582-6d6668551b62",
   "metadata": {},
   "outputs": [
    {
     "data": {
      "text/html": [
       "<div>\n",
       "<style scoped>\n",
       "    .dataframe tbody tr th:only-of-type {\n",
       "        vertical-align: middle;\n",
       "    }\n",
       "\n",
       "    .dataframe tbody tr th {\n",
       "        vertical-align: top;\n",
       "    }\n",
       "\n",
       "    .dataframe thead th {\n",
       "        text-align: right;\n",
       "    }\n",
       "</style>\n",
       "<table border=\"1\" class=\"dataframe\">\n",
       "  <thead>\n",
       "    <tr style=\"text-align: right;\">\n",
       "      <th></th>\n",
       "      <th>index</th>\n",
       "      <th>original</th>\n",
       "      <th>predicted</th>\n",
       "    </tr>\n",
       "  </thead>\n",
       "  <tbody>\n",
       "    <tr>\n",
       "      <th>0</th>\n",
       "      <td>10</td>\n",
       "      <td>bad</td>\n",
       "      <td>bad</td>\n",
       "    </tr>\n",
       "    <tr>\n",
       "      <th>1</th>\n",
       "      <td>11</td>\n",
       "      <td>bad</td>\n",
       "      <td>bad</td>\n",
       "    </tr>\n",
       "    <tr>\n",
       "      <th>2</th>\n",
       "      <td>12</td>\n",
       "      <td>bad</td>\n",
       "      <td>bad</td>\n",
       "    </tr>\n",
       "    <tr>\n",
       "      <th>3</th>\n",
       "      <td>13</td>\n",
       "      <td>bad</td>\n",
       "      <td>bad</td>\n",
       "    </tr>\n",
       "    <tr>\n",
       "      <th>4</th>\n",
       "      <td>14</td>\n",
       "      <td>bad</td>\n",
       "      <td>bad</td>\n",
       "    </tr>\n",
       "    <tr>\n",
       "      <th>5</th>\n",
       "      <td>15</td>\n",
       "      <td>good</td>\n",
       "      <td>good</td>\n",
       "    </tr>\n",
       "    <tr>\n",
       "      <th>6</th>\n",
       "      <td>16</td>\n",
       "      <td>good</td>\n",
       "      <td>good</td>\n",
       "    </tr>\n",
       "    <tr>\n",
       "      <th>7</th>\n",
       "      <td>17</td>\n",
       "      <td>bad</td>\n",
       "      <td>bad</td>\n",
       "    </tr>\n",
       "    <tr>\n",
       "      <th>8</th>\n",
       "      <td>18</td>\n",
       "      <td>good</td>\n",
       "      <td>good</td>\n",
       "    </tr>\n",
       "    <tr>\n",
       "      <th>9</th>\n",
       "      <td>19</td>\n",
       "      <td>bad</td>\n",
       "      <td>bad</td>\n",
       "    </tr>\n",
       "    <tr>\n",
       "      <th>10</th>\n",
       "      <td>20</td>\n",
       "      <td>bad</td>\n",
       "      <td>bad</td>\n",
       "    </tr>\n",
       "  </tbody>\n",
       "</table>\n",
       "</div>"
      ],
      "text/plain": [
       "   index original predicted\n",
       "0     10      bad       bad\n",
       "1     11      bad       bad\n",
       "2     12      bad       bad\n",
       "3     13      bad       bad\n",
       "4     14      bad       bad\n",
       "5     15     good      good\n",
       "6     16     good      good\n",
       "7     17      bad       bad\n",
       "8     18     good      good\n",
       "9     19      bad       bad\n",
       "10    20      bad       bad"
      ]
     },
     "execution_count": 27,
     "metadata": {},
     "output_type": "execute_result"
    }
   ],
   "source": [
    "## Displaying Few test samples\n",
    "\n",
    "indexes = []\n",
    "originals = []\n",
    "predicted = []\n",
    "for i in range(10,21):\n",
    "    predict = pipeline_final.predict(test_x[i].reshape(1,len(test_x[i])))\n",
    "    original = test_y[i]\n",
    "    indexes.append(i)\n",
    "    originals.append(original)\n",
    "    predicted.append(y_encoder.inverse_transform(predict))\n",
    "\n",
    "pd.DataFrame(np.c_[indexes,originals,predicted],columns=['index','original','predicted'])  "
   ]
  }
 ],
 "metadata": {
  "kernelspec": {
   "display_name": "Python 3 (ipykernel)",
   "language": "python",
   "name": "python3"
  },
  "language_info": {
   "codemirror_mode": {
    "name": "ipython",
    "version": 3
   },
   "file_extension": ".py",
   "mimetype": "text/x-python",
   "name": "python",
   "nbconvert_exporter": "python",
   "pygments_lexer": "ipython3",
   "version": "3.10.5"
  }
 },
 "nbformat": 4,
 "nbformat_minor": 5
}
